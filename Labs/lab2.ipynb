{
  "nbformat": 4,
  "nbformat_minor": 0,
  "metadata": {
    "colab": {
      "provenance": [],
      "collapsed_sections": []
    },
    "kernelspec": {
      "name": "python3",
      "display_name": "Python 3"
    },
    "language_info": {
      "name": "python"
    }
  },
  "cells": [
    {
      "cell_type": "markdown",
      "source": [
        "# Завдання\n",
        "\n",
        "- Отримати навички роботи з інтелектуальними агентами.\n",
        "- Розробити раціонального агента-автомобіль, що рухається по дорозі з попередньої лабораторної роботи."
      ],
      "metadata": {
        "id": "4fve8ccwCQu2"
      }
    },
    {
      "cell_type": "markdown",
      "source": [
        "# Опис алгоритму\n",
        "\n",
        "1. Визначаємо у якій стороні лежить кінець.\n",
        "2. Ставимо два пріоритети(ліво-право, верх-низ).\n",
        "3. "
      ],
      "metadata": {
        "id": "6gyC_oLM3DZk"
      }
    },
    {
      "cell_type": "markdown",
      "source": [
        "# Виконання"
      ],
      "metadata": {
        "id": "yJ2DF_g5CaAX"
      }
    },
    {
      "cell_type": "code",
      "execution_count": 342,
      "metadata": {
        "id": "DoNCM3mV13Ml"
      },
      "outputs": [],
      "source": [
        "from typing import List\n",
        "from random import choice\n",
        "from copy import deepcopy\n",
        "from math import sqrt\n",
        "\n",
        "import networkx as nx\n",
        "import matplotlib.pyplot as plt\n",
        "import numpy as np"
      ]
    },
    {
      "cell_type": "code",
      "source": [
        "class Graph:\n",
        "    def __init__(self, n: int = 5):\n",
        "        self.double_n = n * n\n",
        "        self.n = n\n",
        "        self.edgesList: List[list] = [[] for _ in range(self.double_n)]\n",
        "        self.edges_n = 0\n",
        "        self._create_edges()\n",
        "        self.__make_graph()\n",
        "        self.active_node = 0\n",
        "        self.history = []\n",
        "        self.last_good_node: int\n",
        "\n",
        "    def _create_edges(self): \n",
        "        for start in range(self.double_n):\n",
        "            for end in range(self.double_n):\n",
        "                if abs(end - start) == self.n:\n",
        "                    self.edgesList[start].append(end)\n",
        "                    self.edges_n += 1\n",
        "                if abs(end - start) == 1:\n",
        "                    if (start % self.n == 0 and (end + 1) % self.n == 0) or (end % self.n == 0 and (start + 1) % self.n == 0):\n",
        "                        continue\n",
        "                    self.edgesList[start].append(end)\n",
        "                    self.edges_n += 1\n",
        "\n",
        "    def delete_edges(self, delete_n: int):\n",
        "        if delete_n > self.edges_n / 2 + 1 - self.double_n:\n",
        "            raise Exception(f'Delete number must be less or equal than {int(self.edges_n / 2 + 1 - self.double_n)}')\n",
        "        for _ in range(delete_n):\n",
        "            edges = []\n",
        "            while True:\n",
        "                temp_list = deepcopy(self.edgesList)\n",
        "                edgesList_copy = deepcopy(self.edgesList)\n",
        "                point = choice(range(len(temp_list)))\n",
        "                connected_point = choice(temp_list[point])\n",
        "                if [point, connected_point] in edges:\n",
        "                  continue\n",
        "                edges.append([point, connected_point])\n",
        "                temp_list[point].remove(connected_point)\n",
        "                temp_list[connected_point].remove(point)\n",
        "                self.edgesList = temp_list\n",
        "                if self.isStronglyConnected():\n",
        "                    print(point, connected_point)\n",
        "                    break\n",
        "                self.edgesList = edgesList_copy\n",
        "        self.edges_n -= delete_n * 2\n",
        "\n",
        "    \n",
        "    def _DFS(self, v, visited):\n",
        "        visited[v] = True\n",
        "        for u in self.edgesList[v]:\n",
        "            if not visited[u]:\n",
        "                self._DFS(u, visited)\n",
        "\n",
        "    def isStronglyConnected(self):\n",
        "        for i in range(self.double_n):\n",
        "            visited = [False] * self.double_n\n",
        "            self._DFS(i, visited)\n",
        "            for b in visited:\n",
        "                if not b:\n",
        "                    return False\n",
        "        return True\n",
        "\n",
        "    def __make_graph(self):\n",
        "      self.G=nx.Graph()\n",
        "      self.positions = {}\n",
        "      counter = 0\n",
        "      for i in range(n-1, -1, -1):\n",
        "        for j in range(n):\n",
        "          self.G.add_node(counter)\n",
        "          self.positions[counter] = (j, i)\n",
        "          counter += 1\n",
        "      for point, connections in enumerate(self.edgesList):\n",
        "        for connection in connections:\n",
        "          self.G.add_edge(point, connection)\n",
        "    \n",
        "    def draw(self):\n",
        "      self.__make_graph()\n",
        "      colors = np.array(['orange'] * self.double_n)\n",
        "      colors[self.history] = 'red'\n",
        "      nx.draw(self.G, pos=self.positions, node_color=colors, with_labels=True, font_weight='bold', font_color='white')\n",
        "      plt.show()\n",
        "\n",
        "    def walking(self, end: int, start: int = None):\n",
        "        if start:\n",
        "            self.active_node = start\n",
        "        if not self.history:\n",
        "            self.history.append(self.active_node)\n",
        "        print(self.active_node)\n",
        "        x1, y1 = self.positions[self.active_node]\n",
        "        x2, y2 = self.positions[end]\n",
        "        d = sqrt((x1 - x2) ** 2 + (y1 - y2) ** 2)\n",
        "        if d == 0.0:\n",
        "            self.draw()\n",
        "            print('You have ended the walk')\n",
        "            self.active_node = 0\n",
        "            self.history = []\n",
        "            return\n",
        "        variants = {}\n",
        "        edges = list(graph.G.edges(self.active_node))\n",
        "        if len(edges) >= 3:\n",
        "            self.last_good_node = self.active_node\n",
        "        for edge in edges:\n",
        "            edge_on_end = edge[1]\n",
        "            if not edge_on_end in self.history:\n",
        "                x1, y1 = self.positions[edge_on_end]\n",
        "                d = sqrt((x1 - x2) ** 2 + (y1 - y2) ** 2)\n",
        "                variants[edge[1]] = d\n",
        "        variants = dict(sorted(variants.items(), key=lambda item: item[1]))\n",
        "        print(variants)\n",
        "        if not variants:\n",
        "            return self.walking(start=self.last_good_node, end=end)\n",
        "        next_pos = list(variants.keys())[0]\n",
        "        self.history.append(next_pos)\n",
        "        return self.walking(start=next_pos, end=end)\n"
      ],
      "metadata": {
        "id": "QXTQ9I2G2WlV"
      },
      "execution_count": 343,
      "outputs": []
    },
    {
      "cell_type": "markdown",
      "source": [
        "## Ініціалізація графу"
      ],
      "metadata": {
        "id": "pPrBxMRGDibl"
      }
    },
    {
      "cell_type": "code",
      "source": [
        "n = 4"
      ],
      "metadata": {
        "id": "u3O2Gdta2f5M"
      },
      "execution_count": 344,
      "outputs": []
    },
    {
      "cell_type": "code",
      "source": [
        "graph = Graph(n)"
      ],
      "metadata": {
        "id": "KYLXlmZV2hM7"
      },
      "execution_count": 345,
      "outputs": []
    },
    {
      "cell_type": "markdown",
      "source": [
        "## Відображення графу"
      ],
      "metadata": {
        "id": "FQwRiKaMDz1O"
      }
    },
    {
      "cell_type": "code",
      "source": [
        "graph.draw()"
      ],
      "metadata": {
        "colab": {
          "base_uri": "https://localhost:8080/",
          "height": 319
        },
        "id": "QVczzUAmHb3s",
        "outputId": "2bfff093-9166-467d-ef31-2e54f0e1bfb7"
      },
      "execution_count": 346,
      "outputs": [
        {
          "output_type": "display_data",
          "data": {
            "text/plain": [
              "<Figure size 432x288 with 1 Axes>"
            ],
            "image/png": "[encoded data removed]"
          },
          "metadata": {}
        }
      ]
    },
    {
      "cell_type": "markdown",
      "source": [
        "## Видалення ребер"
      ],
      "metadata": {
        "id": "x-d97zxEEZa-"
      }
    },
    {
      "cell_type": "code",
      "source": [
        "graph.delete_edges(9)"
      ],
      "metadata": {
        "colab": {
          "base_uri": "https://localhost:8080/"
        },
        "id": "wZKG0MLF2oTc",
        "outputId": "4945cef7-c1a0-4d19-a4d3-2558f4fdf24b"
      },
      "execution_count": 347,
      "outputs": [
        {
          "output_type": "stream",
          "name": "stdout",
          "text": [
            "7 11\n",
            "7 3\n",
            "4 8\n",
            "11 15\n",
            "6 10\n",
            "13 9\n",
            "0 1\n",
            "9 8\n",
            "6 2\n"
          ]
        }
      ]
    },
    {
      "cell_type": "code",
      "source": [
        "graph.draw() "
      ],
      "metadata": {
        "id": "HDk5CUai2smc",
        "colab": {
          "base_uri": "https://localhost:8080/",
          "height": 319
        },
        "outputId": "e6de962b-6832-44f8-b0be-eb29aac6b6a3"
      },
      "execution_count": 348,
      "outputs": [
        {
          "output_type": "display_data",
          "data": {
            "text/plain": [
              "<Figure size 432x288 with 1 Axes>"
            ],
            "image/png": "[encoded data removed]"
          },
          "metadata": {}
        }
      ]
    },
    {
      "cell_type": "code",
      "source": [
        "graph.walking(end=15)"
      ],
      "metadata": {
        "id": "wX5sjC9dxKw3",
        "colab": {
          "base_uri": "https://localhost:8080/",
          "height": 735
        },
        "outputId": "f773c1fa-1a17-4251-d121-92d9246f4a5e"
      },
      "execution_count": 349,
      "outputs": [
        {
          "output_type": "stream",
          "name": "stdout",
          "text": [
            "0\n",
            "{4: 3.605551275463989}\n",
            "4\n",
            "{5: 2.8284271247461903}\n",
            "5\n",
            "{6: 2.23606797749979, 9: 2.23606797749979, 1: 3.605551275463989}\n",
            "6\n",
            "{7: 2.0}\n",
            "7\n",
            "{}\n",
            "5\n",
            "{9: 2.23606797749979, 1: 3.605551275463989}\n",
            "9\n",
            "{10: 1.4142135623730951}\n",
            "10\n",
            "{11: 1.0, 14: 1.0}\n",
            "11\n",
            "{}\n",
            "10\n",
            "{14: 1.0}\n",
            "14\n",
            "{15: 0.0, 13: 2.0}\n",
            "15\n"
          ]
        },
        {
          "output_type": "display_data",
          "data": {
            "text/plain": [
              "<Figure size 432x288 with 1 Axes>"
            ],
            "image/png": "[encoded data removed]"
          },
          "metadata": {}
        },
        {
          "output_type": "stream",
          "name": "stdout",
          "text": [
            "You have ended the walk\n"
          ]
        }
      ]
    },
    {
      "cell_type": "code",
      "source": [
        "graph.walking(14)"
      ],
      "metadata": {
        "colab": {
          "base_uri": "https://localhost:8080/",
          "height": 527
        },
        "id": "CRTPTA7H8CP-",
        "outputId": "e1165240-eaa0-4846-9500-b6950407d3d1"
      },
      "execution_count": 350,
      "outputs": [
        {
          "output_type": "stream",
          "name": "stdout",
          "text": [
            "0\n",
            "{4: 2.8284271247461903}\n",
            "4\n",
            "{5: 2.23606797749979}\n",
            "5\n",
            "{9: 1.4142135623730951, 6: 2.0, 1: 3.1622776601683795}\n",
            "9\n",
            "{10: 1.0}\n",
            "10\n",
            "{14: 0.0, 11: 1.4142135623730951}\n",
            "14\n"
          ]
        },
        {
          "output_type": "display_data",
          "data": {
            "text/plain": [
              "<Figure size 432x288 with 1 Axes>"
            ],
            "image/png": "[encoded data removed]"
          },
          "metadata": {}
        },
        {
          "output_type": "stream",
          "name": "stdout",
          "text": [
            "You have ended the walk\n"
          ]
        }
      ]
    },
    {
      "cell_type": "markdown",
      "source": [
        "# Висновок\n",
        "\n",
        "бла-бла"
      ],
      "metadata": {
        "id": "Yhvhi5Bj3H94"
      }
    }
  ]
}