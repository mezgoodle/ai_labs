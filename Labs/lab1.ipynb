{
  "nbformat": 4,
  "nbformat_minor": 0,
  "metadata": {
    "colab": {
      "provenance": [],
      "collapsed_sections": []
    },
    "kernelspec": {
      "name": "python3",
      "display_name": "Python 3"
    },
    "language_info": {
      "name": "python"
    }
  },
  "cells": [
    {
      "cell_type": "markdown",
      "source": [
        "# Завдання\n",
        "\n",
        "- Отримати базові навички роботи в оточенні Google Colab.\n",
        "- Розробити граф-дорогу, на основі якої буде виконано подальші\n",
        "лабораторні роботи."
      ],
      "metadata": {
        "id": "4fve8ccwCQu2"
      }
    },
    {
      "cell_type": "markdown",
      "source": [
        "# Виконання"
      ],
      "metadata": {
        "id": "yJ2DF_g5CaAX"
      }
    },
    {
      "cell_type": "markdown",
      "source": [
        "Імортування необхідних бібліотек:\n",
        "\n",
        "- typing, copy та random необхідні для роботи графа\n",
        "- networkx та matplotlib для відображення самого графа"
      ],
      "metadata": {
        "id": "RVq1JPudCgM_"
      }
    },
    {
      "cell_type": "code",
      "execution_count": 124,
      "metadata": {
        "id": "DoNCM3mV13Ml"
      },
      "outputs": [],
      "source": [
        "from typing import List\n",
        "from random import choice\n",
        "from copy import deepcopy\n",
        "\n",
        "import networkx as nx\n",
        "import matplotlib.pyplot as plt"
      ]
    },
    {
      "cell_type": "markdown",
      "source": [
        "## Структура графу\n",
        "\n",
        "Розмір графу - **n * n**\n",
        "\n",
        "Кожна вершина має зв'язки із:\n",
        "\n",
        "- вершиною, різниця індексів яких по модулю = **1**(крім _крайніх вершин_)\n",
        "- вершиною, різниця індексів яких по модулю = **n**\n",
        "\n",
        "Зв'язки представлені у вигляді масиву масивів, де елемент масиву містить **масив індексів вершин**, які приєднані до **індексу цього елементу**.\n"
      ],
      "metadata": {
        "id": "0FfpI0Uj2VU_"
      }
    },
    {
      "cell_type": "markdown",
      "source": [
        "![title](https://raw.githubusercontent.com/mezgoodle/images/master/image_2022-09-26_16-17-06.png)"
      ],
      "metadata": {
        "id": "m7s7Qf8P2aMH"
      }
    },
    {
      "cell_type": "markdown",
      "source": [
        "### Робота класу\n",
        "\n",
        "- Конструктор:\n",
        "  - double_n = дорівнює к-сті вершин;\n",
        "  - n - розмірність графа або к-сть вершин на одній стороні;\n",
        "  - adjList - списко зв'язків між вершинами;\n",
        "  - edges_n - к-сть ребер;\n",
        "  - _create_edges - метод, що створює початкові ребра.\n",
        "- _create_edges:\n",
        "  1. Проходження подвійним циклом по к-сті вершин;\n",
        "  2. Якщо різниця між номером вершини-початком та вершиною-кінцем дорівнює одиниці або n, то це додається у список зв'язків(номер початку є індексом батьківського масиву, а до масиву, що знаходиться по цьому індексу, додається номер кінця;\n",
        "  3. Якщо різниця між вершинами, але це є крайні вершини, то зв'язок не додається.\n",
        "- delete_edges:\n",
        "  - на початку є умова, яка перевіряє, щоб після видалення n-ої кількості ребер залишалась мінімальна для зв'язності графа;\n",
        "  - працює цикл for n разів, у якому є:\n",
        "    - цикл while, оскільки у мене видалаються ребра випадково, то якщо не пройшла перевірка на зв'язність після видалення, то потрібно знайти нове випадкове ребро;\n",
        "    - дві копії adjList, з першої виконується видалення зв'язків, друга необхідна для того, щоб зберегти попередні значення, якщо не пройшла перевірка на зв'язність;\n",
        "    - edges - додаткова змінна, яка створена для того, щоб пришвидшити процес видалення; можливо таке, що choice постійно буде видавати одне й те саме значення, а якщо вже таке було, то наступні операції не потрібно виконувати.\n",
        "- _DFS та isStronglyConnected - це методи для перевірки зв'язності.\n",
        "- draw:\n",
        "  1. створюється об'єкт класу Graph від бібліотеки networkx;\n",
        "  2. до об'єкту додаються вершини(node) із номерами counter;\n",
        "  3. заповнюється словник позицій(positions) із координатами (Dict[counter,List[j, i]]);\n",
        "  4. зі списку зв'язків додаються ребра до об'єкту;\n",
        "  5. безпосереднє відображення графа."
      ],
      "metadata": {
        "id": "m519JQorl__5"
      }
    },
    {
      "cell_type": "code",
      "source": [
        "class Graph:\n",
        "    def __init__(self, n: int = 5):\n",
        "        self.double_n = n * n\n",
        "        self.n = n\n",
        "        self.adjList: List[list] = [[] for _ in range(self.double_n)]\n",
        "        self.edges_n = 0\n",
        "        self._create_edges()\n",
        "\n",
        "    def _create_edges(self): \n",
        "        for src in range(self.double_n):\n",
        "            for dest in range(self.double_n):\n",
        "                if abs(dest - src) == self.n:\n",
        "                    self.adjList[src].append(dest)\n",
        "                    self.edges_n += 1\n",
        "                if abs(dest - src) == 1:\n",
        "                    if (src % self.n == 0 and (dest + 1) % self.n == 0) or (dest % self.n == 0 and (src + 1) % self.n == 0):\n",
        "                        continue\n",
        "                    self.adjList[src].append(dest)\n",
        "                    self.edges_n += 1\n",
        "\n",
        "    def delete_edges(self, delete_n: int):\n",
        "        if delete_n > self.edges_n / 2 + 1 - self.double_n:\n",
        "            raise Exception(f'Delete number must be less or equal than {int(self.edges_n / 2 + 1 - self.double_n)}')\n",
        "        for _ in range(delete_n):\n",
        "            edges = []\n",
        "            while True:\n",
        "                temp_list = deepcopy(self.adjList)\n",
        "                adjList_copy = deepcopy(self.adjList)\n",
        "                point = choice(range(len(temp_list)))\n",
        "                connected_point = choice(temp_list[point])\n",
        "                if [point, connected_point] in edges:\n",
        "                  continue\n",
        "                edges.append([point, connected_point])\n",
        "                temp_list[point].remove(connected_point)\n",
        "                temp_list[connected_point].remove(point)\n",
        "                self.adjList = temp_list\n",
        "                if self.isStronglyConnected():\n",
        "                    print(point, connected_point)\n",
        "                    break\n",
        "                self.adjList = adjList_copy\n",
        "    \n",
        "    def _DFS(self, v, visited):\n",
        "        visited[v] = True\n",
        "        for u in self.adjList[v]:\n",
        "            if not visited[u]:\n",
        "                self._DFS(u, visited)\n",
        "\n",
        "    def isStronglyConnected(self):\n",
        "        for i in range(self.double_n):\n",
        "            visited = [False] * self.double_n\n",
        "            self._DFS(i, visited)\n",
        "            for b in visited:\n",
        "                if not b:\n",
        "                    return False\n",
        "    \n",
        "        return True\n",
        "    \n",
        "    def draw(self):\n",
        "      G=nx.Graph()\n",
        "      positions = {}\n",
        "      counter = 0\n",
        "      for i in range(n-1, -1, -1):\n",
        "        for j in range(n):\n",
        "          G.add_node(counter)\n",
        "          positions[counter] = (j, i)\n",
        "          counter += 1\n",
        "      for point, connections in enumerate(self.adjList):\n",
        "        for connection in connections:\n",
        "          G.add_edge(point, connection)\n",
        "      nx.draw(G, pos=positions, node_color='green', with_labels=True, font_weight='bold', font_color='white')"
      ],
      "metadata": {
        "id": "QXTQ9I2G2WlV"
      },
      "execution_count": 125,
      "outputs": []
    },
    {
      "cell_type": "markdown",
      "source": [
        "## Ініціалізація графу"
      ],
      "metadata": {
        "id": "pPrBxMRGDibl"
      }
    },
    {
      "cell_type": "code",
      "source": [
        "n = 4"
      ],
      "metadata": {
        "id": "u3O2Gdta2f5M"
      },
      "execution_count": 127,
      "outputs": []
    },
    {
      "cell_type": "code",
      "source": [
        "graph = Graph(n)"
      ],
      "metadata": {
        "id": "KYLXlmZV2hM7"
      },
      "execution_count": 128,
      "outputs": []
    },
    {
      "cell_type": "markdown",
      "source": [
        "Кількість ребер"
      ],
      "metadata": {
        "id": "SaNjdX_aDm5K"
      }
    },
    {
      "cell_type": "code",
      "source": [
        "graph.edges_n"
      ],
      "metadata": {
        "colab": {
          "base_uri": "https://localhost:8080/"
        },
        "id": "T9KD7tkfnQMc",
        "outputId": "d23637da-7d12-4368-e4db-43643063b9c9"
      },
      "execution_count": 129,
      "outputs": [
        {
          "output_type": "execute_result",
          "data": {
            "text/plain": [
              "48"
            ]
          },
          "metadata": {},
          "execution_count": 129
        }
      ]
    },
    {
      "cell_type": "markdown",
      "source": [
        "Список зв'язків"
      ],
      "metadata": {
        "id": "iZKM1a2ZDpPO"
      }
    },
    {
      "cell_type": "code",
      "source": [
        "graph.adjList"
      ],
      "metadata": {
        "colab": {
          "base_uri": "https://localhost:8080/"
        },
        "id": "kqa5M9Gu2jFo",
        "outputId": "b4dccd36-87cd-423e-bd8c-7e4fc2a49171"
      },
      "execution_count": 130,
      "outputs": [
        {
          "output_type": "execute_result",
          "data": {
            "text/plain": [
              "[[1, 4],\n",
              " [0, 2, 5],\n",
              " [1, 3, 6],\n",
              " [2, 7],\n",
              " [0, 5, 8],\n",
              " [1, 4, 6, 9],\n",
              " [2, 5, 7, 10],\n",
              " [3, 6, 11],\n",
              " [4, 9, 12],\n",
              " [5, 8, 10, 13],\n",
              " [6, 9, 11, 14],\n",
              " [7, 10, 15],\n",
              " [8, 13],\n",
              " [9, 12, 14],\n",
              " [10, 13, 15],\n",
              " [11, 14]]"
            ]
          },
          "metadata": {},
          "execution_count": 130
        }
      ]
    },
    {
      "cell_type": "markdown",
      "source": [
        "Метод для перевірки на зв'язність"
      ],
      "metadata": {
        "id": "t2cTgTqYEB7P"
      }
    },
    {
      "cell_type": "code",
      "source": [
        "graph.isStronglyConnected()"
      ],
      "metadata": {
        "colab": {
          "base_uri": "https://localhost:8080/"
        },
        "id": "0jSfKy6X2nLs",
        "outputId": "90e68ab1-9b6b-42bf-9048-4b5a783ede09"
      },
      "execution_count": 131,
      "outputs": [
        {
          "output_type": "execute_result",
          "data": {
            "text/plain": [
              "True"
            ]
          },
          "metadata": {},
          "execution_count": 131
        }
      ]
    },
    {
      "cell_type": "markdown",
      "source": [
        "## Відображення графу"
      ],
      "metadata": {
        "id": "FQwRiKaMDz1O"
      }
    },
    {
      "cell_type": "code",
      "source": [
        "graph.draw()"
      ],
      "metadata": {
        "colab": {
          "base_uri": "https://localhost:8080/",
          "height": 319
        },
        "id": "QVczzUAmHb3s",
        "outputId": "d45fbb41-8ccd-43e7-80b3-94df27ebc8be"
      },
      "execution_count": 132,
      "outputs": [
        {
          "output_type": "display_data",
          "data": {
            "text/plain": [
              "<Figure size 432x288 with 1 Axes>"
            ],
            "image/png": "[encoded data removed]"
          },
          "metadata": {}
        }
      ]
    },
    {
      "cell_type": "markdown",
      "source": [
        "## Видалення ребер"
      ],
      "metadata": {
        "id": "x-d97zxEEZa-"
      }
    },
    {
      "cell_type": "code",
      "source": [
        "graph.delete_edges(9)"
      ],
      "metadata": {
        "colab": {
          "base_uri": "https://localhost:8080/"
        },
        "id": "wZKG0MLF2oTc",
        "outputId": "f6495834-500b-4bee-bd5b-aebcd0b2b6f5"
      },
      "execution_count": 133,
      "outputs": [
        {
          "output_type": "stream",
          "name": "stdout",
          "text": [
            "14 10\n",
            "4 5\n",
            "6 2\n",
            "3 2\n",
            "6 5\n",
            "13 12\n",
            "9 8\n",
            "7 11\n",
            "11 15\n"
          ]
        }
      ]
    },
    {
      "cell_type": "code",
      "source": [
        "graph.adjList"
      ],
      "metadata": {
        "id": "Ru68JgIO2phk",
        "colab": {
          "base_uri": "https://localhost:8080/"
        },
        "outputId": "073334b2-92b8-4f2b-a97c-839d5c653e0e"
      },
      "execution_count": 134,
      "outputs": [
        {
          "output_type": "execute_result",
          "data": {
            "text/plain": [
              "[[1, 4],\n",
              " [0, 2, 5],\n",
              " [1],\n",
              " [7],\n",
              " [0, 8],\n",
              " [1, 9],\n",
              " [7, 10],\n",
              " [3, 6],\n",
              " [4, 12],\n",
              " [5, 10, 13],\n",
              " [6, 9, 11],\n",
              " [10],\n",
              " [8],\n",
              " [9, 14],\n",
              " [13, 15],\n",
              " [14]]"
            ]
          },
          "metadata": {},
          "execution_count": 134
        }
      ]
    },
    {
      "cell_type": "code",
      "source": [
        "graph.draw() "
      ],
      "metadata": {
        "id": "HDk5CUai2smc",
        "colab": {
          "base_uri": "https://localhost:8080/",
          "height": 319
        },
        "outputId": "5b2d8339-592e-4678-fba5-25aef5fc4688"
      },
      "execution_count": 135,
      "outputs": [
        {
          "output_type": "display_data",
          "data": {
            "text/plain": [
              "<Figure size 432x288 with 1 Axes>"
            ],
            "image/png": "[encoded data removed]"
          },
          "metadata": {}
        }
      ]
    }
  ]
}