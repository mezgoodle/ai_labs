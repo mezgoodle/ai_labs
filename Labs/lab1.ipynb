{
  "nbformat": 4,
  "nbformat_minor": 0,
  "metadata": {
    "colab": {
      "provenance": [],
      "collapsed_sections": []
    },
    "kernelspec": {
      "name": "python3",
      "display_name": "Python 3"
    },
    "language_info": {
      "name": "python"
    }
  },
  "cells": [
    {
      "cell_type": "code",
      "execution_count": 41,
      "metadata": {
        "id": "DoNCM3mV13Ml"
      },
      "outputs": [],
      "source": [
        "from typing import List\n",
        "from random import choice\n",
        "from copy import deepcopy\n",
        "\n",
        "import networkx as nx\n",
        "import matplotlib.pyplot as plt"
      ]
    },
    {
      "cell_type": "markdown",
      "source": [
        "# Структура графу\n",
        "\n",
        "Розмір графу - **n * n**\n",
        "\n",
        "Кожна вершина має зв'язки із:\n",
        "\n",
        "- вершиною, різниця індексів яких по модулю = **1**(крім _крайніх вершин_)\n",
        "- вершиною, різниця індексів яких по модулю = **n**\n",
        "\n",
        "Зв'язки представлені у вигляді масиву масивів, де елемент масиву містить **масив індексів вершин**, які приєднані до **індексу цього елементу**.\n",
        "\n",
        "Видалення ребер виконується випадково, але із перевіркою на **зв'язність графу**."
      ],
      "metadata": {
        "id": "0FfpI0Uj2VU_"
      }
    },
    {
      "cell_type": "markdown",
      "source": [
        "![title](https://raw.githubusercontent.com/mezgoodle/images/master/image_2022-09-26_16-17-06.png)"
      ],
      "metadata": {
        "id": "m7s7Qf8P2aMH"
      }
    },
    {
      "cell_type": "code",
      "source": [
        "class Graph:\n",
        "    def __init__(self, n: int = 5):\n",
        "        self.double_n = n * n\n",
        "        self.n = n\n",
        "        self.adjList: List[list] = [[] for _ in range(self.double_n)]\n",
        "        self.edges_n = 0\n",
        "        self._create_edges()\n",
        "\n",
        "    def _create_edges(self): \n",
        "        for src in range(self.double_n):\n",
        "            for dest in range(self.double_n):\n",
        "                if abs(dest - src) == self.n:\n",
        "                    self.adjList[src].append(dest)\n",
        "                    self.edges_n += 1\n",
        "                if abs(dest - src) == 1:\n",
        "                    if (src % self.n == 0 and (dest + 1) % self.n == 0) or (dest % self.n == 0 and (src + 1) % self.n == 0):\n",
        "                        continue\n",
        "                    self.adjList[src].append(dest)\n",
        "                    self.edges_n += 1\n",
        "    \n",
        "    def get_adjList(self):\n",
        "        return {point: tuple(connections) for point, connections in enumerate(self.adjList)}\n",
        "\n",
        "    def delete_edges(self, delete_n: int):\n",
        "        if delete_n > self.edges_n / 2 + 1 - self.double_n:\n",
        "            raise Exception(f'Delete number must be less or equal than {int(self.edges_n / 2 + 1 - self.double_n)}')\n",
        "        for _ in range(delete_n):\n",
        "            edges = []\n",
        "            while True:\n",
        "                temp_list = deepcopy(self.adjList)\n",
        "                adjList_copy = deepcopy(self.adjList)\n",
        "                point = choice(range(len(temp_list)))\n",
        "                connected_point = choice(temp_list[point])\n",
        "                if [point, connected_point] in edges:\n",
        "                  continue\n",
        "                edges.append([point, connected_point])\n",
        "                temp_list[point].remove(connected_point)\n",
        "                temp_list[connected_point].remove(point)\n",
        "                self.adjList = temp_list\n",
        "                if self.isStronglyConnected():\n",
        "                    print(point, connected_point)\n",
        "                    break\n",
        "                self.adjList = adjList_copy\n",
        "    \n",
        "    def _DFS(self, v, visited):\n",
        "        visited[v] = True\n",
        "        for u in self.adjList[v]:\n",
        "            if not visited[u]:\n",
        "                self._DFS(u, visited)\n",
        "\n",
        "    def isStronglyConnected(self):\n",
        "        for i in range(self.double_n):\n",
        "            visited = [False] * self.double_n\n",
        "            self._DFS(i, visited)\n",
        "            for b in visited:\n",
        "                if not b:\n",
        "                    return False\n",
        "    \n",
        "        return True"
      ],
      "metadata": {
        "id": "QXTQ9I2G2WlV"
      },
      "execution_count": 42,
      "outputs": []
    },
    {
      "cell_type": "code",
      "source": [
        "n = 3"
      ],
      "metadata": {
        "id": "u3O2Gdta2f5M"
      },
      "execution_count": 43,
      "outputs": []
    },
    {
      "cell_type": "code",
      "source": [
        "graph = Graph(n)"
      ],
      "metadata": {
        "id": "KYLXlmZV2hM7"
      },
      "execution_count": 44,
      "outputs": []
    },
    {
      "cell_type": "code",
      "source": [
        "graph.edges_n"
      ],
      "metadata": {
        "colab": {
          "base_uri": "https://localhost:8080/"
        },
        "id": "T9KD7tkfnQMc",
        "outputId": "8f92a170-f565-4c1b-dc2f-e5b71a245e9c"
      },
      "execution_count": 45,
      "outputs": [
        {
          "output_type": "execute_result",
          "data": {
            "text/plain": [
              "24"
            ]
          },
          "metadata": {},
          "execution_count": 45
        }
      ]
    },
    {
      "cell_type": "code",
      "source": [
        "graph.adjList"
      ],
      "metadata": {
        "colab": {
          "base_uri": "https://localhost:8080/"
        },
        "id": "kqa5M9Gu2jFo",
        "outputId": "28b50446-db17-41a4-e66b-3e22dfeb1b1a"
      },
      "execution_count": 46,
      "outputs": [
        {
          "output_type": "execute_result",
          "data": {
            "text/plain": [
              "[[1, 3],\n",
              " [0, 2, 4],\n",
              " [1, 5],\n",
              " [0, 4, 6],\n",
              " [1, 3, 5, 7],\n",
              " [2, 4, 8],\n",
              " [3, 7],\n",
              " [4, 6, 8],\n",
              " [5, 7]]"
            ]
          },
          "metadata": {},
          "execution_count": 46
        }
      ]
    },
    {
      "cell_type": "code",
      "source": [
        "edges_dict = graph.get_adjList()\n",
        "edges_dict"
      ],
      "metadata": {
        "colab": {
          "base_uri": "https://localhost:8080/"
        },
        "id": "64vRRQu_2kI0",
        "outputId": "551462e7-de07-4c9a-a294-7d09586b0761"
      },
      "execution_count": 47,
      "outputs": [
        {
          "output_type": "execute_result",
          "data": {
            "text/plain": [
              "{0: (1, 3),\n",
              " 1: (0, 2, 4),\n",
              " 2: (1, 5),\n",
              " 3: (0, 4, 6),\n",
              " 4: (1, 3, 5, 7),\n",
              " 5: (2, 4, 8),\n",
              " 6: (3, 7),\n",
              " 7: (4, 6, 8),\n",
              " 8: (5, 7)}"
            ]
          },
          "metadata": {},
          "execution_count": 47
        }
      ]
    },
    {
      "cell_type": "code",
      "source": [
        "H = nx.Graph(edges_dict)\n",
        "nx.draw(H, with_labels=True, font_weight='bold')\n",
        "plt.show()"
      ],
      "metadata": {
        "colab": {
          "base_uri": "https://localhost:8080/",
          "height": 319
        },
        "id": "tZwohbDt2lcG",
        "outputId": "0dcd8b46-d955-4343-ce66-3bb3dbd7b70b"
      },
      "execution_count": 48,
      "outputs": [
        {
          "output_type": "display_data",
          "data": {
            "text/plain": [
              "<Figure size 432x288 with 1 Axes>"
            ],
            "image/png": "[encoded data removed]"
          },
          "metadata": {}
        }
      ]
    },
    {
      "cell_type": "code",
      "source": [
        "graph.isStronglyConnected()"
      ],
      "metadata": {
        "colab": {
          "base_uri": "https://localhost:8080/"
        },
        "id": "0jSfKy6X2nLs",
        "outputId": "c3230a19-1880-4938-fd56-d53be7ab3559"
      },
      "execution_count": 49,
      "outputs": [
        {
          "output_type": "execute_result",
          "data": {
            "text/plain": [
              "True"
            ]
          },
          "metadata": {},
          "execution_count": 49
        }
      ]
    },
    {
      "cell_type": "code",
      "source": [
        "graph.delete_edges(5)"
      ],
      "metadata": {
        "colab": {
          "base_uri": "https://localhost:8080/",
          "height": 287
        },
        "id": "wZKG0MLF2oTc",
        "outputId": "45612c64-95bf-4998-925e-021b358d03a5"
      },
      "execution_count": 50,
      "outputs": [
        {
          "output_type": "error",
          "ename": "Exception",
          "evalue": "ignored",
          "traceback": [
            "\u001b[0;31m---------------------------------------------------------------------------\u001b[0m",
            "\u001b[0;31mException\u001b[0m                                 Traceback (most recent call last)",
            "\u001b[0;32m<ipython-input-50-513b09f65753>\u001b[0m in \u001b[0;36m<module>\u001b[0;34m\u001b[0m\n\u001b[0;32m----> 1\u001b[0;31m \u001b[0mgraph\u001b[0m\u001b[0;34m.\u001b[0m\u001b[0mdelete_edges\u001b[0m\u001b[0;34m(\u001b[0m\u001b[0;36m5\u001b[0m\u001b[0;34m)\u001b[0m\u001b[0;34m\u001b[0m\u001b[0;34m\u001b[0m\u001b[0m\n\u001b[0m",
            "\u001b[0;32m<ipython-input-42-5bd052a0ccc6>\u001b[0m in \u001b[0;36mdelete_edges\u001b[0;34m(self, delete_n)\u001b[0m\n\u001b[1;32m     24\u001b[0m     \u001b[0;32mdef\u001b[0m \u001b[0mdelete_edges\u001b[0m\u001b[0;34m(\u001b[0m\u001b[0mself\u001b[0m\u001b[0;34m,\u001b[0m \u001b[0mdelete_n\u001b[0m\u001b[0;34m:\u001b[0m \u001b[0mint\u001b[0m\u001b[0;34m)\u001b[0m\u001b[0;34m:\u001b[0m\u001b[0;34m\u001b[0m\u001b[0;34m\u001b[0m\u001b[0m\n\u001b[1;32m     25\u001b[0m         \u001b[0;32mif\u001b[0m \u001b[0mdelete_n\u001b[0m \u001b[0;34m>\u001b[0m \u001b[0mself\u001b[0m\u001b[0;34m.\u001b[0m\u001b[0medges_n\u001b[0m \u001b[0;34m/\u001b[0m \u001b[0;36m2\u001b[0m \u001b[0;34m+\u001b[0m \u001b[0;36m1\u001b[0m \u001b[0;34m-\u001b[0m \u001b[0mself\u001b[0m\u001b[0;34m.\u001b[0m\u001b[0mdouble_n\u001b[0m\u001b[0;34m:\u001b[0m\u001b[0;34m\u001b[0m\u001b[0;34m\u001b[0m\u001b[0m\n\u001b[0;32m---> 26\u001b[0;31m             \u001b[0;32mraise\u001b[0m \u001b[0mException\u001b[0m\u001b[0;34m(\u001b[0m\u001b[0;34mf'Delete number must be less or equal than {int(self.edges_n / 2 + 1 - self.double_n)}'\u001b[0m\u001b[0;34m)\u001b[0m\u001b[0;34m\u001b[0m\u001b[0;34m\u001b[0m\u001b[0m\n\u001b[0m\u001b[1;32m     27\u001b[0m         \u001b[0;32mfor\u001b[0m \u001b[0m_\u001b[0m \u001b[0;32min\u001b[0m \u001b[0mrange\u001b[0m\u001b[0;34m(\u001b[0m\u001b[0mdelete_n\u001b[0m\u001b[0;34m)\u001b[0m\u001b[0;34m:\u001b[0m\u001b[0;34m\u001b[0m\u001b[0;34m\u001b[0m\u001b[0m\n\u001b[1;32m     28\u001b[0m             \u001b[0medges\u001b[0m \u001b[0;34m=\u001b[0m \u001b[0;34m[\u001b[0m\u001b[0;34m]\u001b[0m\u001b[0;34m\u001b[0m\u001b[0;34m\u001b[0m\u001b[0m\n",
            "\u001b[0;31mException\u001b[0m: Delete number must be less or equal than 4"
          ]
        }
      ]
    },
    {
      "cell_type": "code",
      "source": [
        "edges_dict = graph.get_adjList()\n",
        "edges_dict"
      ],
      "metadata": {
        "id": "Ru68JgIO2phk"
      },
      "execution_count": null,
      "outputs": []
    },
    {
      "cell_type": "code",
      "source": [
        "H = nx.Graph(edges_dict)"
      ],
      "metadata": {
        "id": "B2HAlU3J2qoM"
      },
      "execution_count": null,
      "outputs": []
    },
    {
      "cell_type": "code",
      "source": [
        "list(H.edges())"
      ],
      "metadata": {
        "id": "IqFhwAkE2riV"
      },
      "execution_count": null,
      "outputs": []
    },
    {
      "cell_type": "code",
      "source": [
        "nx.draw(H, with_labels=True, font_weight='bold')\n",
        "plt.show()  "
      ],
      "metadata": {
        "id": "HDk5CUai2smc"
      },
      "execution_count": null,
      "outputs": []
    }
  ]
}