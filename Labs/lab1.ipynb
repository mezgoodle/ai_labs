{
  "nbformat": 4,
  "nbformat_minor": 0,
  "metadata": {
    "colab": {
      "provenance": [],
      "collapsed_sections": []
    },
    "kernelspec": {
      "name": "python3",
      "display_name": "Python 3"
    },
    "language_info": {
      "name": "python"
    }
  },
  "cells": [
    {
      "cell_type": "markdown",
      "source": [
        "# Завдання\n",
        "\n",
        "- Отримати базові навички роботи в оточенні Google Colab.\n",
        "- Розробити граф-дорогу, на основі якої буде виконано подальші\n",
        "лабораторні роботи."
      ],
      "metadata": {
        "id": "4fve8ccwCQu2"
      }
    },
    {
      "cell_type": "markdown",
      "source": [
        "# Виконання"
      ],
      "metadata": {
        "id": "yJ2DF_g5CaAX"
      }
    },
    {
      "cell_type": "markdown",
      "source": [
        "Імортування необхідних бібліотек:\n",
        "\n",
        "- typing, copy та random необхідні для роботи графа\n",
        "- networkx та matplotlib для відображення самого графа"
      ],
      "metadata": {
        "id": "RVq1JPudCgM_"
      }
    },
    {
      "cell_type": "code",
      "execution_count": 239,
      "metadata": {
        "id": "DoNCM3mV13Ml"
      },
      "outputs": [],
      "source": [
        "from typing import List\n",
        "from random import choice\n",
        "from copy import deepcopy\n",
        "\n",
        "import networkx as nx\n",
        "import matplotlib.pyplot as plt"
      ]
    },
    {
      "cell_type": "markdown",
      "source": [
        "## Структура графу\n",
        "\n",
        "Розмір графу - **n * n**\n",
        "\n",
        "Кожна вершина має зв'язки із:\n",
        "\n",
        "- вершиною, різниця індексів яких по модулю = **1**(крім _крайніх вершин_)\n",
        "- вершиною, різниця індексів яких по модулю = **n**\n",
        "\n",
        "Зв'язки представлені у вигляді масиву масивів, де елемент масиву містить **масив індексів вершин**, які приєднані до **індексу цього елементу**.\n",
        "\n",
        "Видалення ребер виконується випадково, але із перевіркою на **зв'язність графу**."
      ],
      "metadata": {
        "id": "0FfpI0Uj2VU_"
      }
    },
    {
      "cell_type": "markdown",
      "source": [
        "![title](https://raw.githubusercontent.com/mezgoodle/images/master/image_2022-09-26_16-17-06.png)"
      ],
      "metadata": {
        "id": "m7s7Qf8P2aMH"
      }
    },
    {
      "cell_type": "code",
      "source": [
        "class Graph:\n",
        "    def __init__(self, n: int = 5):\n",
        "        self.double_n = n * n\n",
        "        self.n = n\n",
        "        self.adjList: List[list] = [[] for _ in range(self.double_n)]\n",
        "        self.edges_n = 0\n",
        "        self._create_edges()\n",
        "\n",
        "    def _create_edges(self): \n",
        "        for src in range(self.double_n):\n",
        "            for dest in range(self.double_n):\n",
        "                if abs(dest - src) == self.n:\n",
        "                    self.adjList[src].append(dest)\n",
        "                    self.edges_n += 1\n",
        "                if abs(dest - src) == 1:\n",
        "                    if (src % self.n == 0 and (dest + 1) % self.n == 0) or (dest % self.n == 0 and (src + 1) % self.n == 0):\n",
        "                        continue\n",
        "                    self.adjList[src].append(dest)\n",
        "                    self.edges_n += 1\n",
        "    \n",
        "    def get_adjList(self):\n",
        "        return {point: tuple(connections) for point, connections in enumerate(self.adjList)}\n",
        "\n",
        "    def delete_edges(self, delete_n: int):\n",
        "        if delete_n > self.edges_n / 2 + 1 - self.double_n:\n",
        "            raise Exception(f'Delete number must be less or equal than {int(self.edges_n / 2 + 1 - self.double_n)}')\n",
        "        for _ in range(delete_n):\n",
        "            edges = []\n",
        "            while True:\n",
        "                temp_list = deepcopy(self.adjList)\n",
        "                adjList_copy = deepcopy(self.adjList)\n",
        "                point = choice(range(len(temp_list)))\n",
        "                connected_point = choice(temp_list[point])\n",
        "                if [point, connected_point] in edges:\n",
        "                  continue\n",
        "                edges.append([point, connected_point])\n",
        "                temp_list[point].remove(connected_point)\n",
        "                temp_list[connected_point].remove(point)\n",
        "                self.adjList = temp_list\n",
        "                if self.isStronglyConnected():\n",
        "                    print(point, connected_point)\n",
        "                    break\n",
        "                self.adjList = adjList_copy\n",
        "    \n",
        "    def _DFS(self, v, visited):\n",
        "        visited[v] = True\n",
        "        for u in self.adjList[v]:\n",
        "            if not visited[u]:\n",
        "                self._DFS(u, visited)\n",
        "\n",
        "    def isStronglyConnected(self):\n",
        "        for i in range(self.double_n):\n",
        "            visited = [False] * self.double_n\n",
        "            self._DFS(i, visited)\n",
        "            for b in visited:\n",
        "                if not b:\n",
        "                    return False\n",
        "    \n",
        "        return True\n",
        "    \n",
        "    def draw(self):\n",
        "      G=nx.Graph()\n",
        "      positions = {}\n",
        "      counter = 0\n",
        "      for i in range(n):\n",
        "        for j in range(n):\n",
        "          G.add_node(counter)\n",
        "          positions[counter] = (i, j)\n",
        "          counter += 1\n",
        "      for point, connections in enumerate(self.adjList):\n",
        "        for connection in connections:\n",
        "          G.add_edge(point, connection)\n",
        "      nx.draw(G, pos=positions, with_labels=True, font_weight='bold')"
      ],
      "metadata": {
        "id": "QXTQ9I2G2WlV"
      },
      "execution_count": 240,
      "outputs": []
    },
    {
      "cell_type": "markdown",
      "source": [
        "## Ініціалізація графу"
      ],
      "metadata": {
        "id": "pPrBxMRGDibl"
      }
    },
    {
      "cell_type": "code",
      "source": [
        "n = 4"
      ],
      "metadata": {
        "id": "u3O2Gdta2f5M"
      },
      "execution_count": 241,
      "outputs": []
    },
    {
      "cell_type": "code",
      "source": [
        "graph = Graph(n)"
      ],
      "metadata": {
        "id": "KYLXlmZV2hM7"
      },
      "execution_count": 242,
      "outputs": []
    },
    {
      "cell_type": "markdown",
      "source": [
        "Кількість ребер"
      ],
      "metadata": {
        "id": "SaNjdX_aDm5K"
      }
    },
    {
      "cell_type": "code",
      "source": [
        "graph.edges_n"
      ],
      "metadata": {
        "colab": {
          "base_uri": "https://localhost:8080/"
        },
        "id": "T9KD7tkfnQMc",
        "outputId": "5df4ccd5-4ed2-40ba-e6cd-70adbf7c390b"
      },
      "execution_count": 243,
      "outputs": [
        {
          "output_type": "execute_result",
          "data": {
            "text/plain": [
              "48"
            ]
          },
          "metadata": {},
          "execution_count": 243
        }
      ]
    },
    {
      "cell_type": "markdown",
      "source": [
        "Список зв'язків"
      ],
      "metadata": {
        "id": "iZKM1a2ZDpPO"
      }
    },
    {
      "cell_type": "code",
      "source": [
        "graph.adjList"
      ],
      "metadata": {
        "colab": {
          "base_uri": "https://localhost:8080/"
        },
        "id": "kqa5M9Gu2jFo",
        "outputId": "96db1fcd-e470-4a59-9657-be51201e51e2"
      },
      "execution_count": 244,
      "outputs": [
        {
          "output_type": "execute_result",
          "data": {
            "text/plain": [
              "[[1, 4],\n",
              " [0, 2, 5],\n",
              " [1, 3, 6],\n",
              " [2, 7],\n",
              " [0, 5, 8],\n",
              " [1, 4, 6, 9],\n",
              " [2, 5, 7, 10],\n",
              " [3, 6, 11],\n",
              " [4, 9, 12],\n",
              " [5, 8, 10, 13],\n",
              " [6, 9, 11, 14],\n",
              " [7, 10, 15],\n",
              " [8, 13],\n",
              " [9, 12, 14],\n",
              " [10, 13, 15],\n",
              " [11, 14]]"
            ]
          },
          "metadata": {},
          "execution_count": 244
        }
      ]
    },
    {
      "cell_type": "markdown",
      "source": [
        "Метод для перевірки на зв'язність"
      ],
      "metadata": {
        "id": "t2cTgTqYEB7P"
      }
    },
    {
      "cell_type": "code",
      "source": [
        "graph.isStronglyConnected()"
      ],
      "metadata": {
        "colab": {
          "base_uri": "https://localhost:8080/"
        },
        "id": "0jSfKy6X2nLs",
        "outputId": "9a659d62-c8ed-4472-a6bb-f82ee8bae698"
      },
      "execution_count": 245,
      "outputs": [
        {
          "output_type": "execute_result",
          "data": {
            "text/plain": [
              "True"
            ]
          },
          "metadata": {},
          "execution_count": 245
        }
      ]
    },
    {
      "cell_type": "markdown",
      "source": [
        "## Відображення графу"
      ],
      "metadata": {
        "id": "FQwRiKaMDz1O"
      }
    },
    {
      "cell_type": "code",
      "source": [
        "graph.draw()"
      ],
      "metadata": {
        "colab": {
          "base_uri": "https://localhost:8080/",
          "height": 319
        },
        "id": "QVczzUAmHb3s",
        "outputId": "cef07f09-0a92-42aa-efda-53457db34ee7"
      },
      "execution_count": 246,
      "outputs": [
        {
          "output_type": "display_data",
          "data": {
            "text/plain": [
              "<Figure size 432x288 with 1 Axes>"
            ],
            "image/png": "[encoded data removed]"
          },
          "metadata": {}
        }
      ]
    },
    {
      "cell_type": "markdown",
      "source": [
        "## Видалення ребер"
      ],
      "metadata": {
        "id": "x-d97zxEEZa-"
      }
    },
    {
      "cell_type": "code",
      "source": [
        "graph.delete_edges(6)"
      ],
      "metadata": {
        "colab": {
          "base_uri": "https://localhost:8080/"
        },
        "id": "wZKG0MLF2oTc",
        "outputId": "947f7c17-957f-4889-c986-5b8867cb3abb"
      },
      "execution_count": 247,
      "outputs": [
        {
          "output_type": "stream",
          "name": "stdout",
          "text": [
            "9 5\n",
            "9 13\n",
            "3 7\n",
            "1 0\n",
            "12 13\n",
            "7 6\n"
          ]
        }
      ]
    },
    {
      "cell_type": "code",
      "source": [
        "graph.adjList"
      ],
      "metadata": {
        "id": "Ru68JgIO2phk",
        "colab": {
          "base_uri": "https://localhost:8080/"
        },
        "outputId": "54e8c1a3-89b3-4280-c7c0-8bd9e4f64ce2"
      },
      "execution_count": 248,
      "outputs": [
        {
          "output_type": "execute_result",
          "data": {
            "text/plain": [
              "[[4],\n",
              " [2, 5],\n",
              " [1, 3, 6],\n",
              " [2],\n",
              " [0, 5, 8],\n",
              " [1, 4, 6],\n",
              " [2, 5, 10],\n",
              " [11],\n",
              " [4, 9, 12],\n",
              " [8, 10],\n",
              " [6, 9, 11, 14],\n",
              " [7, 10, 15],\n",
              " [8],\n",
              " [14],\n",
              " [10, 13, 15],\n",
              " [11, 14]]"
            ]
          },
          "metadata": {},
          "execution_count": 248
        }
      ]
    },
    {
      "cell_type": "code",
      "source": [
        "graph.draw() "
      ],
      "metadata": {
        "id": "HDk5CUai2smc",
        "colab": {
          "base_uri": "https://localhost:8080/",
          "height": 319
        },
        "outputId": "019daae0-2bc6-4a7f-f842-a47a1424fff3"
      },
      "execution_count": 249,
      "outputs": [
        {
          "output_type": "display_data",
          "data": {
            "text/plain": [
              "<Figure size 432x288 with 1 Axes>"
            ],
            "image/png": "[encoded data removed]"
          },
          "metadata": {}
        }
      ]
    }
  ]
}