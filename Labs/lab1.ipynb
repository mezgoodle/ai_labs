{
  "nbformat": 4,
  "nbformat_minor": 0,
  "metadata": {
    "colab": {
      "provenance": [],
      "collapsed_sections": []
    },
    "kernelspec": {
      "name": "python3",
      "display_name": "Python 3"
    },
    "language_info": {
      "name": "python"
    }
  },
  "cells": [
    {
      "cell_type": "code",
      "execution_count": 902,
      "metadata": {
        "id": "DoNCM3mV13Ml"
      },
      "outputs": [],
      "source": [
        "from typing import List\n",
        "from random import choice\n",
        "from copy import deepcopy\n",
        "\n",
        "import networkx as nx\n",
        "import matplotlib.pyplot as plt"
      ]
    },
    {
      "cell_type": "markdown",
      "source": [
        "# Структура графу\n",
        "\n",
        "Розмір графу - **n * n**\n",
        "\n",
        "Кожна вершина має зв'язки із:\n",
        "\n",
        "- вершиною, різниця індексів яких по модулю = **1**(крім _крайніх вершин_)\n",
        "- вершиною, різниця індексів яких по модулю = **n**\n",
        "\n",
        "Зв'язки представлені у вигляді масиву масивів, де елемент масиву містить **масив індексів вершин**, які приєднані до **індексу цього елементу**.\n",
        "\n",
        "Видалення ребер виконується випадково, але із перевіркою на **зв'язність графу**."
      ],
      "metadata": {
        "id": "0FfpI0Uj2VU_"
      }
    },
    {
      "cell_type": "markdown",
      "source": [
        "![title](https://raw.githubusercontent.com/mezgoodle/images/master/image_2022-09-26_16-17-06.png)"
      ],
      "metadata": {
        "id": "m7s7Qf8P2aMH"
      }
    },
    {
      "cell_type": "code",
      "source": [
        "class Graph:\n",
        "    def __init__(self, n: int = 5):\n",
        "        self.double_n = n * n\n",
        "        self.n = n\n",
        "        self.adjList: List[list] = [[] for _ in range(self.double_n)]\n",
        "        self._create_edges()\n",
        "\n",
        "    def _create_edges(self): \n",
        "        for src in range(self.double_n):\n",
        "            for dest in range(self.double_n):\n",
        "                if abs(dest - src) == self.n:\n",
        "                    self.adjList[src].append(dest)\n",
        "                if abs(dest - src) == 1:\n",
        "                    if (src % self.n == 0 and (dest + 1) % self.n == 0) or (dest % self.n == 0 and (src + 1) % self.n == 0):\n",
        "                        continue\n",
        "                    self.adjList[src].append(dest)\n",
        "    \n",
        "    def get_adjList(self):\n",
        "        return {point: tuple(connections) for point, connections in enumerate(self.adjList)}\n",
        "\n",
        "    def delete_edges(self, delete_n: int):\n",
        "        if delete_n > self.double_n - 1:\n",
        "            raise Exception('Delete number must be less than number of edges - 1')\n",
        "        for _ in range(delete_n):\n",
        "            edges = []\n",
        "            while True:\n",
        "                temp_list = deepcopy(self.adjList)\n",
        "                adjList_copy = deepcopy(self.adjList)\n",
        "                point = choice(range(len(temp_list)))\n",
        "                connected_point = choice(temp_list[point])\n",
        "                if [point, connected_point] in edges:\n",
        "                  continue\n",
        "                edges.append([point, connected_point])\n",
        "                temp_list[point].remove(connected_point)\n",
        "                temp_list[connected_point].remove(point)\n",
        "                self.adjList = temp_list\n",
        "                if self.isStronglyConnected():\n",
        "                    print(point, connected_point)\n",
        "                    break\n",
        "                self.adjList = adjList_copy\n",
        "    \n",
        "    def _DFS(self, v, visited):\n",
        "        visited[v] = True\n",
        "        for u in self.adjList[v]:\n",
        "            if not visited[u]:\n",
        "                self._DFS(u, visited)\n",
        "\n",
        "    def isStronglyConnected(self):\n",
        "        for i in range(self.double_n):\n",
        "            visited = [False] * self.double_n\n",
        "            self._DFS(i, visited)\n",
        "            for b in visited:\n",
        "                if not b:\n",
        "                    return False\n",
        "    \n",
        "        return True"
      ],
      "metadata": {
        "id": "QXTQ9I2G2WlV"
      },
      "execution_count": 903,
      "outputs": []
    },
    {
      "cell_type": "code",
      "source": [
        "n = 4"
      ],
      "metadata": {
        "id": "u3O2Gdta2f5M"
      },
      "execution_count": 904,
      "outputs": []
    },
    {
      "cell_type": "code",
      "source": [
        "graph = Graph(n)"
      ],
      "metadata": {
        "id": "KYLXlmZV2hM7"
      },
      "execution_count": 905,
      "outputs": []
    },
    {
      "cell_type": "code",
      "source": [
        "graph.adjList"
      ],
      "metadata": {
        "colab": {
          "base_uri": "https://localhost:8080/"
        },
        "id": "kqa5M9Gu2jFo",
        "outputId": "03767873-15a5-486e-ff6a-fa69ba25f1c8"
      },
      "execution_count": 906,
      "outputs": [
        {
          "output_type": "execute_result",
          "data": {
            "text/plain": [
              "[[1, 4],\n",
              " [0, 2, 5],\n",
              " [1, 3, 6],\n",
              " [2, 7],\n",
              " [0, 5, 8],\n",
              " [1, 4, 6, 9],\n",
              " [2, 5, 7, 10],\n",
              " [3, 6, 11],\n",
              " [4, 9, 12],\n",
              " [5, 8, 10, 13],\n",
              " [6, 9, 11, 14],\n",
              " [7, 10, 15],\n",
              " [8, 13],\n",
              " [9, 12, 14],\n",
              " [10, 13, 15],\n",
              " [11, 14]]"
            ]
          },
          "metadata": {},
          "execution_count": 906
        }
      ]
    },
    {
      "cell_type": "code",
      "source": [
        "edges_dict = graph.get_adjList()\n",
        "edges_dict"
      ],
      "metadata": {
        "colab": {
          "base_uri": "https://localhost:8080/"
        },
        "id": "64vRRQu_2kI0",
        "outputId": "eca6a7de-8f70-495f-d0b6-50a66e4ec34d"
      },
      "execution_count": 907,
      "outputs": [
        {
          "output_type": "execute_result",
          "data": {
            "text/plain": [
              "{0: (1, 4),\n",
              " 1: (0, 2, 5),\n",
              " 2: (1, 3, 6),\n",
              " 3: (2, 7),\n",
              " 4: (0, 5, 8),\n",
              " 5: (1, 4, 6, 9),\n",
              " 6: (2, 5, 7, 10),\n",
              " 7: (3, 6, 11),\n",
              " 8: (4, 9, 12),\n",
              " 9: (5, 8, 10, 13),\n",
              " 10: (6, 9, 11, 14),\n",
              " 11: (7, 10, 15),\n",
              " 12: (8, 13),\n",
              " 13: (9, 12, 14),\n",
              " 14: (10, 13, 15),\n",
              " 15: (11, 14)}"
            ]
          },
          "metadata": {},
          "execution_count": 907
        }
      ]
    },
    {
      "cell_type": "code",
      "source": [
        "H = nx.Graph(edges_dict)\n",
        "nx.draw(H, with_labels=True, font_weight='bold')\n",
        "plt.show()"
      ],
      "metadata": {
        "colab": {
          "base_uri": "https://localhost:8080/",
          "height": 319
        },
        "id": "tZwohbDt2lcG",
        "outputId": "051e1786-384b-468e-8e62-df4a8ab655dd"
      },
      "execution_count": 908,
      "outputs": [
        {
          "output_type": "display_data",
          "data": {
            "text/plain": [
              "<Figure size 432x288 with 1 Axes>"
            ],
            "image/png": "[encoded data removed]"
          },
          "metadata": {}
        }
      ]
    },
    {
      "cell_type": "code",
      "source": [
        "graph.isStronglyConnected()"
      ],
      "metadata": {
        "colab": {
          "base_uri": "https://localhost:8080/"
        },
        "id": "0jSfKy6X2nLs",
        "outputId": "4bb3486c-53cc-4b7c-c73d-e38eab7bcb33"
      },
      "execution_count": 909,
      "outputs": [
        {
          "output_type": "execute_result",
          "data": {
            "text/plain": [
              "True"
            ]
          },
          "metadata": {},
          "execution_count": 909
        }
      ]
    },
    {
      "cell_type": "code",
      "source": [
        "graph.delete_edges(5)"
      ],
      "metadata": {
        "colab": {
          "base_uri": "https://localhost:8080/"
        },
        "id": "wZKG0MLF2oTc",
        "outputId": "a73fdec4-3dc1-4b14-b2f0-b69cfd09b7ff"
      },
      "execution_count": 910,
      "outputs": [
        {
          "output_type": "stream",
          "name": "stdout",
          "text": [
            "4 8\n",
            "0 1\n",
            "6 2\n",
            "5 1\n",
            "6 10\n"
          ]
        }
      ]
    },
    {
      "cell_type": "code",
      "source": [
        "edges_dict = graph.get_adjList()\n",
        "edges_dict"
      ],
      "metadata": {
        "id": "Ru68JgIO2phk",
        "colab": {
          "base_uri": "https://localhost:8080/"
        },
        "outputId": "2081aad2-8a5e-4cf5-9428-8eb9fcb07c5e"
      },
      "execution_count": 911,
      "outputs": [
        {
          "output_type": "execute_result",
          "data": {
            "text/plain": [
              "{0: (4,),\n",
              " 1: (2,),\n",
              " 2: (1, 3),\n",
              " 3: (2, 7),\n",
              " 4: (0, 5),\n",
              " 5: (4, 6, 9),\n",
              " 6: (5, 7),\n",
              " 7: (3, 6, 11),\n",
              " 8: (9, 12),\n",
              " 9: (5, 8, 10, 13),\n",
              " 10: (9, 11, 14),\n",
              " 11: (7, 10, 15),\n",
              " 12: (8, 13),\n",
              " 13: (9, 12, 14),\n",
              " 14: (10, 13, 15),\n",
              " 15: (11, 14)}"
            ]
          },
          "metadata": {},
          "execution_count": 911
        }
      ]
    },
    {
      "cell_type": "code",
      "source": [
        "H = nx.Graph(edges_dict)"
      ],
      "metadata": {
        "id": "B2HAlU3J2qoM"
      },
      "execution_count": 912,
      "outputs": []
    },
    {
      "cell_type": "code",
      "source": [
        "list(H.edges())"
      ],
      "metadata": {
        "id": "IqFhwAkE2riV",
        "colab": {
          "base_uri": "https://localhost:8080/"
        },
        "outputId": "d0f084d5-7bb6-45d3-e26f-a655db42a98f"
      },
      "execution_count": 913,
      "outputs": [
        {
          "output_type": "execute_result",
          "data": {
            "text/plain": [
              "[(0, 4),\n",
              " (1, 2),\n",
              " (2, 3),\n",
              " (3, 7),\n",
              " (4, 5),\n",
              " (5, 6),\n",
              " (5, 9),\n",
              " (6, 7),\n",
              " (7, 11),\n",
              " (8, 9),\n",
              " (8, 12),\n",
              " (9, 10),\n",
              " (9, 13),\n",
              " (10, 11),\n",
              " (10, 14),\n",
              " (11, 15),\n",
              " (12, 13),\n",
              " (13, 14),\n",
              " (14, 15)]"
            ]
          },
          "metadata": {},
          "execution_count": 913
        }
      ]
    },
    {
      "cell_type": "code",
      "source": [
        "nx.draw(H, with_labels=True, font_weight='bold')\n",
        "plt.show()  "
      ],
      "metadata": {
        "id": "HDk5CUai2smc",
        "colab": {
          "base_uri": "https://localhost:8080/",
          "height": 319
        },
        "outputId": "4c6ed03d-73e0-4938-93f7-59f5056a437b"
      },
      "execution_count": 914,
      "outputs": [
        {
          "output_type": "display_data",
          "data": {
            "text/plain": [
              "<Figure size 432x288 with 1 Axes>"
            ],
            "image/png": "[encoded data removed]"
          },
          "metadata": {}
        }
      ]
    }
  ]
}