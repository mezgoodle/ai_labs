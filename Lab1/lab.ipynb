{
 "cells": [
  {
   "cell_type": "code",
   "execution_count": 135,
   "metadata": {},
   "outputs": [],
   "source": [
    "from typing import List\n",
    "from random import choice\n",
    "\n",
    "\n",
    "class Graph:\n",
    "    def __init__(self, n: int = 5):\n",
    "        self.double_n = n * n\n",
    "        self.n = n\n",
    "        self._create_edges()\n",
    "\n",
    "    def _create_edges(self): \n",
    "        self.adjList: List[list] = [[] for _ in range(self.double_n)]\n",
    "\n",
    "        for src in range(self.double_n):\n",
    "            for dest in range(self.double_n):\n",
    "                if abs(dest - src) == self.n:\n",
    "                    self.adjList[src].append(dest)\n",
    "                if abs(dest - src) == 1:\n",
    "                    if (src % self.n == 0 and (dest + 1) % self.n == 0) or (dest % self.n == 0 and (src + 1) % self.n == 0):\n",
    "                        continue\n",
    "                    self.adjList[src].append(dest)\n",
    "\n",
    "    def delete_edges(self, delete_n: int):\n",
    "        if delete_n > self.double_n - 1:\n",
    "            raise Exception('Delete number must be less than number of edges - 1')\n",
    "        for _ in range(delete_n):\n",
    "            while True:\n",
    "                point = choice(range(len(self.adjList)))\n",
    "                connected_point = choice(self.adjList[point])\n",
    "                adjList_copy = self.adjList.copy()\n",
    "                self.adjList[point].remove(connected_point)\n",
    "                self.adjList[connected_point].remove(point)\n",
    "                if self.isStronglyConnected():\n",
    "                    print(point, connected_point)\n",
    "                    break\n",
    "                self.adjList = adjList_copy\n",
    "    \n",
    "    def _DFS(self, v, visited):\n",
    "        visited[v] = True\n",
    "        for u in self.adjList[v]:\n",
    "            if not visited[u]:\n",
    "                self._DFS(u, visited)\n",
    "\n",
    "    def isStronglyConnected(self):\n",
    "        for i in range(self.double_n):\n",
    "            visited = [False] * self.double_n\n",
    "            self._DFS(i, visited)\n",
    "            for b in visited:\n",
    "                if not b:\n",
    "                    return False\n",
    "    \n",
    "        return True"
   ]
  },
  {
   "cell_type": "code",
   "execution_count": 137,
   "metadata": {},
   "outputs": [],
   "source": [
    "n = 3"
   ]
  },
  {
   "cell_type": "code",
   "execution_count": 138,
   "metadata": {},
   "outputs": [],
   "source": [
    "graph = Graph(n)"
   ]
  },
  {
   "cell_type": "code",
   "execution_count": 139,
   "metadata": {},
   "outputs": [
    {
     "data": {
      "text/plain": [
       "[[1, 3],\n",
       " [0, 2, 4],\n",
       " [1, 5],\n",
       " [0, 4, 6],\n",
       " [1, 3, 5, 7],\n",
       " [2, 4, 8],\n",
       " [3, 7],\n",
       " [4, 6, 8],\n",
       " [5, 7]]"
      ]
     },
     "execution_count": 139,
     "metadata": {},
     "output_type": "execute_result"
    }
   ],
   "source": [
    "graph.adjList"
   ]
  },
  {
   "cell_type": "code",
   "execution_count": 140,
   "metadata": {},
   "outputs": [
    {
     "data": {
      "text/plain": [
       "True"
      ]
     },
     "execution_count": 140,
     "metadata": {},
     "output_type": "execute_result"
    }
   ],
   "source": [
    "graph.isStronglyConnected()"
   ]
  },
  {
   "cell_type": "code",
   "execution_count": 141,
   "metadata": {},
   "outputs": [
    {
     "name": "stdout",
     "output_type": "stream",
     "text": [
      "8 7\n",
      "6 3\n",
      "4 1\n"
     ]
    }
   ],
   "source": [
    "graph.delete_edges(3)"
   ]
  },
  {
   "cell_type": "code",
   "execution_count": 142,
   "metadata": {},
   "outputs": [
    {
     "data": {
      "text/plain": [
       "[[1, 3], [0, 2], [1, 5], [0, 4], [3, 5, 7], [2, 4, 8], [7], [4, 6], [5]]"
      ]
     },
     "execution_count": 142,
     "metadata": {},
     "output_type": "execute_result"
    }
   ],
   "source": [
    "graph.adjList"
   ]
  }
 ],
 "metadata": {
  "kernelspec": {
   "display_name": "Python 3.8.0 ('.venv': venv)",
   "language": "python",
   "name": "python3"
  },
  "language_info": {
   "codemirror_mode": {
    "name": "ipython",
    "version": 3
   },
   "file_extension": ".py",
   "mimetype": "text/x-python",
   "name": "python",
   "nbconvert_exporter": "python",
   "pygments_lexer": "ipython3",
   "version": "3.8.0"
  },
  "orig_nbformat": 4,
  "vscode": {
   "interpreter": {
    "hash": "e88af944da3c6cfb1ed7751b9ac9c580afb4cbbdddb427fe922a773722398ceb"
   }
  }
 },
 "nbformat": 4,
 "nbformat_minor": 2
}
