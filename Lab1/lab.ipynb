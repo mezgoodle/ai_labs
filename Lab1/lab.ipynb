{
 "cells": [
  {
   "cell_type": "code",
   "execution_count": 44,
   "metadata": {},
   "outputs": [],
   "source": [
    "# A class to represent a graph object\n",
    "from typing import List\n",
    "\n",
    "\n",
    "class Graph:\n",
    " \n",
    "    # Constructor\n",
    "    def __init__(self, n: int = 5):\n",
    "        self.double_n = n * n\n",
    "        self.n = n\n",
    "        self._create_edges()\n",
    "\n",
    "    def _create_edges(self): \n",
    "        self.adjList = [[] for _ in range(self.double_n)]\n",
    "\n",
    "        for src in range(self.double_n):\n",
    "            for dest in range(self.double_n):\n",
    "                if abs(dest - src) == self.n:\n",
    "                    self.adjList[src].append(dest)\n",
    "                if abs(dest - src) == 1:\n",
    "                    if (src % self.n == 0 and (dest + 1) % self.n == 0) or (dest % self.n == 0 and (src + 1) % self.n == 0):\n",
    "                        continue\n",
    "                    self.adjList[src].append(dest)\n",
    "    \n",
    "    def paint(self):\n",
    "        for number, point in enumerate(self.adjList):\n",
    "            print(point, number)"
   ]
  },
  {
   "cell_type": "code",
   "execution_count": 45,
   "metadata": {},
   "outputs": [
    {
     "data": {
      "text/plain": [
       "[(0, 0), (0, 1), (0, 2), Ellipsis, (1, 0), (1, 1), (1, 2), Ellipsis]"
      ]
     },
     "execution_count": 45,
     "metadata": {},
     "output_type": "execute_result"
    }
   ],
   "source": [
    "[(0, 0), (0, 1), (0, 2), ..., (1, 0), (1, 1), (1, 2), ...]"
   ]
  },
  {
   "cell_type": "code",
   "execution_count": 46,
   "metadata": {},
   "outputs": [],
   "source": [
    "n = 4"
   ]
  },
  {
   "cell_type": "code",
   "execution_count": 47,
   "metadata": {},
   "outputs": [],
   "source": [
    "graph = Graph(n)"
   ]
  },
  {
   "cell_type": "code",
   "execution_count": 48,
   "metadata": {},
   "outputs": [
    {
     "data": {
      "text/plain": [
       "[[1, 4],\n",
       " [0, 2, 5],\n",
       " [1, 3, 6],\n",
       " [2, 7],\n",
       " [0, 5, 8],\n",
       " [1, 4, 6, 9],\n",
       " [2, 5, 7, 10],\n",
       " [3, 6, 11],\n",
       " [4, 9, 12],\n",
       " [5, 8, 10, 13],\n",
       " [6, 9, 11, 14],\n",
       " [7, 10, 15],\n",
       " [8, 13],\n",
       " [9, 12, 14],\n",
       " [10, 13, 15],\n",
       " [11, 14]]"
      ]
     },
     "execution_count": 48,
     "metadata": {},
     "output_type": "execute_result"
    }
   ],
   "source": [
    "graph.adjList"
   ]
  },
  {
   "cell_type": "code",
   "execution_count": 49,
   "metadata": {},
   "outputs": [
    {
     "name": "stdout",
     "output_type": "stream",
     "text": [
      "[1, 4] 0\n",
      "[0, 2, 5] 1\n",
      "[1, 3, 6] 2\n",
      "[2, 7] 3\n",
      "[0, 5, 8] 4\n",
      "[1, 4, 6, 9] 5\n",
      "[2, 5, 7, 10] 6\n",
      "[3, 6, 11] 7\n",
      "[4, 9, 12] 8\n",
      "[5, 8, 10, 13] 9\n",
      "[6, 9, 11, 14] 10\n",
      "[7, 10, 15] 11\n",
      "[8, 13] 12\n",
      "[9, 12, 14] 13\n",
      "[10, 13, 15] 14\n",
      "[11, 14] 15\n"
     ]
    }
   ],
   "source": [
    "graph.paint()"
   ]
  },
  {
   "cell_type": "code",
   "execution_count": 50,
   "metadata": {},
   "outputs": [],
   "source": [
    "# Function to perform DFS traversal on the graph on a graph\n",
    "def DFS(graph, v, visited):\n",
    " \n",
    "    # mark current node as visited\n",
    "    visited[v] = True\n",
    " \n",
    "    # do for every edge (v, u)\n",
    "    for u in graph.adjList[v]:\n",
    "        # `u` is not visited\n",
    "        if not visited[u]:\n",
    "            DFS(graph, u, visited)\n",
    " \n",
    " \n",
    "# Check if the graph is strongly connected or not\n",
    "def isStronglyConnected(graph, n):\n",
    " \n",
    "    # do for every vertex\n",
    "    for i in range(n):\n",
    " \n",
    "        # to keep track of whether a vertex is visited or not\n",
    "        visited = [False] * n\n",
    " \n",
    "        # start DFS from the first vertex\n",
    "        DFS(graph, i, visited)\n",
    " \n",
    "        # If DFS traversal doesn't visit all vertices,\n",
    "        # then the graph is not strongly connected\n",
    "        for b in visited:\n",
    "            if not b:\n",
    "                return False\n",
    " \n",
    "    return True"
   ]
  },
  {
   "cell_type": "code",
   "execution_count": 51,
   "metadata": {},
   "outputs": [
    {
     "data": {
      "text/plain": [
       "True"
      ]
     },
     "execution_count": 51,
     "metadata": {},
     "output_type": "execute_result"
    }
   ],
   "source": [
    "isStronglyConnected(graph, n * n)"
   ]
  }
 ],
 "metadata": {
  "kernelspec": {
   "display_name": "Python 3.8.0 ('.venv': venv)",
   "language": "python",
   "name": "python3"
  },
  "language_info": {
   "codemirror_mode": {
    "name": "ipython",
    "version": 3
   },
   "file_extension": ".py",
   "mimetype": "text/x-python",
   "name": "python",
   "nbconvert_exporter": "python",
   "pygments_lexer": "ipython3",
   "version": "3.8.0"
  },
  "orig_nbformat": 4,
  "vscode": {
   "interpreter": {
    "hash": "e88af944da3c6cfb1ed7751b9ac9c580afb4cbbdddb427fe922a773722398ceb"
   }
  }
 },
 "nbformat": 4,
 "nbformat_minor": 2
}
