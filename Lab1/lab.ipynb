{
 "cells": [
  {
   "cell_type": "code",
   "execution_count": 121,
   "metadata": {},
   "outputs": [],
   "source": [
    "# A class to represent a graph object\n",
    "from typing import List\n",
    "from random import choice\n",
    "\n",
    "\n",
    "class Graph:\n",
    " \n",
    "    # Constructor\n",
    "    def __init__(self, n: int = 5):\n",
    "        self.double_n = n * n\n",
    "        self.n = n\n",
    "        self._create_edges()\n",
    "\n",
    "    def _create_edges(self): \n",
    "        self.adjList = [[] for _ in range(self.double_n)]\n",
    "\n",
    "        for src in range(self.double_n):\n",
    "            for dest in range(self.double_n):\n",
    "                if abs(dest - src) == self.n:\n",
    "                    self.adjList[src].append(dest)\n",
    "                if abs(dest - src) == 1:\n",
    "                    if (src % self.n == 0 and (dest + 1) % self.n == 0) or (dest % self.n == 0 and (src + 1) % self.n == 0):\n",
    "                        continue\n",
    "                    self.adjList[src].append(dest)\n",
    "\n",
    "    def delete_edges(self, delete_n: int):\n",
    "        if delete_n > self.double_n:\n",
    "            raise Exception('Delete number must be less than number of edges - 1')\n",
    "        for _ in range(delete_n):\n",
    "            point = choice(range(len(self.adjList)))\n",
    "            print(point, self.adjList[point])\n",
    "    \n",
    "    # Function to perform DFS traversal on the graph on a graph\n",
    "    def _DFS(self, v, visited):\n",
    "    \n",
    "        # mark current node as visited\n",
    "        visited[v] = True\n",
    "    \n",
    "        # do for every edge (v, u)\n",
    "        for u in self.adjList[v]:\n",
    "            # `u` is not visited\n",
    "            if not visited[u]:\n",
    "                self._DFS(u, visited)\n",
    "    \n",
    "    \n",
    "    # Check if the graph is strongly connected or not\n",
    "    def isStronglyConnected(self):\n",
    "    \n",
    "        # do for every vertex\n",
    "        for i in range(self.double_n):\n",
    "    \n",
    "            # to keep track of whether a vertex is visited or not\n",
    "            visited = [False] * self.double_n\n",
    "    \n",
    "            # start DFS from the first vertex\n",
    "            self._DFS(i, visited)\n",
    "    \n",
    "            # If DFS traversal doesn't visit all vertices,\n",
    "            # then the graph is not strongly connected\n",
    "            for b in visited:\n",
    "                if not b:\n",
    "                    return False\n",
    "    \n",
    "        return True"
   ]
  },
  {
   "cell_type": "code",
   "execution_count": 122,
   "metadata": {},
   "outputs": [
    {
     "data": {
      "text/plain": [
       "[(0, 0), (0, 1), (0, 2), Ellipsis, (1, 0), (1, 1), (1, 2), Ellipsis]"
      ]
     },
     "execution_count": 122,
     "metadata": {},
     "output_type": "execute_result"
    }
   ],
   "source": [
    "[(0, 0), (0, 1), (0, 2), ..., (1, 0), (1, 1), (1, 2), ...]"
   ]
  },
  {
   "cell_type": "code",
   "execution_count": 123,
   "metadata": {},
   "outputs": [],
   "source": [
    "n = 3"
   ]
  },
  {
   "cell_type": "code",
   "execution_count": 124,
   "metadata": {},
   "outputs": [],
   "source": [
    "graph = Graph(n)"
   ]
  },
  {
   "cell_type": "code",
   "execution_count": 125,
   "metadata": {},
   "outputs": [
    {
     "data": {
      "text/plain": [
       "[[1, 3],\n",
       " [0, 2, 4],\n",
       " [1, 5],\n",
       " [0, 4, 6],\n",
       " [1, 3, 5, 7],\n",
       " [2, 4, 8],\n",
       " [3, 7],\n",
       " [4, 6, 8],\n",
       " [5, 7]]"
      ]
     },
     "execution_count": 125,
     "metadata": {},
     "output_type": "execute_result"
    }
   ],
   "source": [
    "graph.adjList"
   ]
  },
  {
   "cell_type": "code",
   "execution_count": 126,
   "metadata": {},
   "outputs": [
    {
     "data": {
      "text/plain": [
       "True"
      ]
     },
     "execution_count": 126,
     "metadata": {},
     "output_type": "execute_result"
    }
   ],
   "source": [
    "graph.isStronglyConnected()"
   ]
  },
  {
   "cell_type": "code",
   "execution_count": 127,
   "metadata": {},
   "outputs": [
    {
     "name": "stdout",
     "output_type": "stream",
     "text": [
      "6 [3, 7]\n",
      "6 [3, 7]\n",
      "3 [0, 4, 6]\n"
     ]
    }
   ],
   "source": [
    "graph.delete_edges(3)"
   ]
  }
 ],
 "metadata": {
  "kernelspec": {
   "display_name": "Python 3.8.0 ('.venv': venv)",
   "language": "python",
   "name": "python3"
  },
  "language_info": {
   "codemirror_mode": {
    "name": "ipython",
    "version": 3
   },
   "file_extension": ".py",
   "mimetype": "text/x-python",
   "name": "python",
   "nbconvert_exporter": "python",
   "pygments_lexer": "ipython3",
   "version": "3.8.0"
  },
  "orig_nbformat": 4,
  "vscode": {
   "interpreter": {
    "hash": "e88af944da3c6cfb1ed7751b9ac9c580afb4cbbdddb427fe922a773722398ceb"
   }
  }
 },
 "nbformat": 4,
 "nbformat_minor": 2
}
