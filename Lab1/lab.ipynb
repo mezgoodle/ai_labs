{
 "cells": [
  {
   "cell_type": "code",
   "execution_count": 171,
   "metadata": {},
   "outputs": [],
   "source": [
    "from typing import List\n",
    "from random import choice\n",
    "\n",
    "import networkx as nx\n",
    "import matplotlib.pyplot as plt"
   ]
  },
  {
   "cell_type": "code",
   "execution_count": 172,
   "metadata": {},
   "outputs": [],
   "source": [
    "class Graph:\n",
    "    def __init__(self, n: int = 5):\n",
    "        self.double_n = n * n\n",
    "        self.n = n\n",
    "        self._create_edges()\n",
    "\n",
    "    def _create_edges(self): \n",
    "        self.adjList: List[list] = [[] for _ in range(self.double_n)]\n",
    "\n",
    "        for src in range(self.double_n):\n",
    "            for dest in range(self.double_n):\n",
    "                if abs(dest - src) == self.n:\n",
    "                    self.adjList[src].append(dest)\n",
    "                if abs(dest - src) == 1:\n",
    "                    if (src % self.n == 0 and (dest + 1) % self.n == 0) or (dest % self.n == 0 and (src + 1) % self.n == 0):\n",
    "                        continue\n",
    "                    self.adjList[src].append(dest)\n",
    "    \n",
    "    def get_adjList(self):\n",
    "        return {point: tuple(connections) for point, connections in enumerate(self.adjList)}\n",
    "\n",
    "    def delete_edges(self, delete_n: int):\n",
    "        if delete_n > self.double_n - 1:\n",
    "            raise Exception('Delete number must be less than number of edges - 1')\n",
    "        for _ in range(delete_n):\n",
    "            while True:\n",
    "                point = choice(range(len(self.adjList)))\n",
    "                connected_point = choice(self.adjList[point])\n",
    "                adjList_copy = self.adjList.copy()\n",
    "                self.adjList[point].remove(connected_point)\n",
    "                self.adjList[connected_point].remove(point)\n",
    "                if self.isStronglyConnected():\n",
    "                    print(point, connected_point)\n",
    "                    break\n",
    "                self.adjList = adjList_copy\n",
    "    \n",
    "    def _DFS(self, v, visited):\n",
    "        visited[v] = True\n",
    "        for u in self.adjList[v]:\n",
    "            if not visited[u]:\n",
    "                self._DFS(u, visited)\n",
    "\n",
    "    def isStronglyConnected(self):\n",
    "        for i in range(self.double_n):\n",
    "            visited = [False] * self.double_n\n",
    "            self._DFS(i, visited)\n",
    "            for b in visited:\n",
    "                if not b:\n",
    "                    return False\n",
    "    \n",
    "        return True"
   ]
  },
  {
   "cell_type": "code",
   "execution_count": 173,
   "metadata": {},
   "outputs": [],
   "source": [
    "n = 4"
   ]
  },
  {
   "cell_type": "code",
   "execution_count": 174,
   "metadata": {},
   "outputs": [],
   "source": [
    "graph = Graph(n)"
   ]
  },
  {
   "cell_type": "code",
   "execution_count": 175,
   "metadata": {},
   "outputs": [
    {
     "data": {
      "text/plain": [
       "[[1, 4],\n",
       " [0, 2, 5],\n",
       " [1, 3, 6],\n",
       " [2, 7],\n",
       " [0, 5, 8],\n",
       " [1, 4, 6, 9],\n",
       " [2, 5, 7, 10],\n",
       " [3, 6, 11],\n",
       " [4, 9, 12],\n",
       " [5, 8, 10, 13],\n",
       " [6, 9, 11, 14],\n",
       " [7, 10, 15],\n",
       " [8, 13],\n",
       " [9, 12, 14],\n",
       " [10, 13, 15],\n",
       " [11, 14]]"
      ]
     },
     "execution_count": 175,
     "metadata": {},
     "output_type": "execute_result"
    }
   ],
   "source": [
    "graph.adjList"
   ]
  },
  {
   "cell_type": "code",
   "execution_count": 176,
   "metadata": {},
   "outputs": [
    {
     "data": {
      "text/plain": [
       "{0: (1, 4),\n",
       " 1: (0, 2, 5),\n",
       " 2: (1, 3, 6),\n",
       " 3: (2, 7),\n",
       " 4: (0, 5, 8),\n",
       " 5: (1, 4, 6, 9),\n",
       " 6: (2, 5, 7, 10),\n",
       " 7: (3, 6, 11),\n",
       " 8: (4, 9, 12),\n",
       " 9: (5, 8, 10, 13),\n",
       " 10: (6, 9, 11, 14),\n",
       " 11: (7, 10, 15),\n",
       " 12: (8, 13),\n",
       " 13: (9, 12, 14),\n",
       " 14: (10, 13, 15),\n",
       " 15: (11, 14)}"
      ]
     },
     "execution_count": 176,
     "metadata": {},
     "output_type": "execute_result"
    }
   ],
   "source": [
    "edges_dict = graph.get_adjList()\n",
    "edges_dict"
   ]
  },
  {
   "cell_type": "code",
   "execution_count": 177,
   "metadata": {},
   "outputs": [
    {
     "data": {
      "text/plain": [
       "True"
      ]
     },
     "execution_count": 177,
     "metadata": {},
     "output_type": "execute_result"
    }
   ],
   "source": [
    "graph.isStronglyConnected()"
   ]
  },
  {
   "cell_type": "code",
   "execution_count": 178,
   "metadata": {},
   "outputs": [
    {
     "name": "stdout",
     "output_type": "stream",
     "text": [
      "1 5\n",
      "6 2\n",
      "14 13\n"
     ]
    }
   ],
   "source": [
    "graph.delete_edges(3)"
   ]
  },
  {
   "cell_type": "code",
   "execution_count": 179,
   "metadata": {},
   "outputs": [
    {
     "data": {
      "text/plain": [
       "{0: (1, 4),\n",
       " 1: (0, 2),\n",
       " 2: (1, 3),\n",
       " 3: (2, 7),\n",
       " 4: (0, 5, 8),\n",
       " 5: (4, 6, 9),\n",
       " 6: (5, 7, 10),\n",
       " 7: (3, 6, 11),\n",
       " 8: (4, 9, 12),\n",
       " 9: (5, 8, 10, 13),\n",
       " 10: (6, 9, 11, 14),\n",
       " 11: (7, 10, 15),\n",
       " 12: (8, 13),\n",
       " 13: (9, 12),\n",
       " 14: (10, 15),\n",
       " 15: (11, 14)}"
      ]
     },
     "execution_count": 179,
     "metadata": {},
     "output_type": "execute_result"
    }
   ],
   "source": [
    "edges_dict = graph.get_adjList()\n",
    "edges_dict"
   ]
  },
  {
   "cell_type": "code",
   "execution_count": 180,
   "metadata": {},
   "outputs": [],
   "source": [
    "H = nx.Graph(edges_dict)"
   ]
  },
  {
   "cell_type": "code",
   "execution_count": 181,
   "metadata": {},
   "outputs": [
    {
     "data": {
      "text/plain": [
       "[(0, 1),\n",
       " (0, 4),\n",
       " (1, 2),\n",
       " (2, 3),\n",
       " (3, 7),\n",
       " (4, 5),\n",
       " (4, 8),\n",
       " (5, 6),\n",
       " (5, 9),\n",
       " (6, 7),\n",
       " (6, 10),\n",
       " (7, 11),\n",
       " (8, 9),\n",
       " (8, 12),\n",
       " (9, 10),\n",
       " (9, 13),\n",
       " (10, 11),\n",
       " (10, 14),\n",
       " (11, 15),\n",
       " (12, 13),\n",
       " (14, 15)]"
      ]
     },
     "execution_count": 181,
     "metadata": {},
     "output_type": "execute_result"
    }
   ],
   "source": [
    "list(H.edges())"
   ]
  },
  {
   "cell_type": "code",
   "execution_count": 182,
   "metadata": {},
   "outputs": [
    {
     "data": {
      "image/png": "[encoded data removed]",
      "text/plain": [
       "<Figure size 640x480 with 1 Axes>"
      ]
     },
     "metadata": {},
     "output_type": "display_data"
    }
   ],
   "source": [
    "nx.draw(H, with_labels=True, font_weight='bold')\n",
    "plt.show()  \n"
   ]
  }
 ],
 "metadata": {
  "kernelspec": {
   "display_name": "Python 3.8.0 ('.venv': venv)",
   "language": "python",
   "name": "python3"
  },
  "language_info": {
   "codemirror_mode": {
    "name": "ipython",
    "version": 3
   },
   "file_extension": ".py",
   "mimetype": "text/x-python",
   "name": "python",
   "nbconvert_exporter": "python",
   "pygments_lexer": "ipython3",
   "version": "3.8.0"
  },
  "orig_nbformat": 4,
  "vscode": {
   "interpreter": {
    "hash": "e88af944da3c6cfb1ed7751b9ac9c580afb4cbbdddb427fe922a773722398ceb"
   }
  }
 },
 "nbformat": 4,
 "nbformat_minor": 2
}
