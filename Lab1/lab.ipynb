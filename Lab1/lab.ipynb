{
 "cells": [
  {
   "cell_type": "code",
   "execution_count": 48,
   "metadata": {},
   "outputs": [],
   "source": [
    "# A class to represent a graph object\n",
    "from typing import List\n",
    "\n",
    "\n",
    "class Graph:\n",
    " \n",
    "    # Constructor\n",
    "    def __init__(self, n:int, edges: List[set] = None):\n",
    " \n",
    "        # A list of lists to represent an adjacency list\n",
    "        if edges:\n",
    "            self.adjList = [[] for _ in range(n)]\n",
    "            self.edges = edges\n",
    "            # add edges to the directed graph\n",
    "            \n",
    "        else:\n",
    "            self.adjList = [[] for _ in range(n)]\n",
    "            edges = []\n",
    "            for i in range(n):\n",
    "                for j in range(n):\n",
    "                    edges.append((i, j))\n",
    "            self.edges = edges\n",
    "\n",
    "        for (src, dest) in self.edges:\n",
    "                if (src < 0) or (src > 25):\n",
    "                    continue\n",
    "                if abs(dest - src) == 5:\n",
    "                    self.adjList[src].append(dest)\n",
    "                if  abs(dest - src) == 1:\n",
    "                    if (src % 5 == 0 and (dest + 1) % 5 == 0) or (dest % 5 == 0 and (src + 1) % 5 == 0):\n",
    "                        continue\n",
    "                    self.adjList[src].append(dest)\n",
    " \n",
    "        "
   ]
  },
  {
   "cell_type": "code",
   "execution_count": 49,
   "metadata": {},
   "outputs": [
    {
     "data": {
      "text/plain": [
       "[(0, 0), (0, 1), (0, 2), Ellipsis, (1, 0), (1, 1), (1, 2), Ellipsis]"
      ]
     },
     "execution_count": 49,
     "metadata": {},
     "output_type": "execute_result"
    }
   ],
   "source": [
    "[(0, 0), (0, 1), (0, 2), ..., (1, 0), (1, 1), (1, 2), ...]"
   ]
  },
  {
   "cell_type": "code",
   "execution_count": 50,
   "metadata": {},
   "outputs": [],
   "source": [
    "edges = [(0, 4), (1, 0), (1, 2), (2, 1), (2, 4), (3, 1), (3, 2), (4, 3)]\n",
    "n = 25"
   ]
  },
  {
   "cell_type": "code",
   "execution_count": 51,
   "metadata": {},
   "outputs": [],
   "source": [
    "graph = Graph(n)"
   ]
  },
  {
   "cell_type": "code",
   "execution_count": 52,
   "metadata": {},
   "outputs": [
    {
     "data": {
      "text/plain": [
       "[[1, 5],\n",
       " [0, 2, 6],\n",
       " [1, 3, 7],\n",
       " [2, 4, 8],\n",
       " [3, 9],\n",
       " [0, 6, 10],\n",
       " [1, 5, 7, 11],\n",
       " [2, 6, 8, 12],\n",
       " [3, 7, 9, 13],\n",
       " [4, 8, 14],\n",
       " [5, 11, 15],\n",
       " [6, 10, 12, 16],\n",
       " [7, 11, 13, 17],\n",
       " [8, 12, 14, 18],\n",
       " [9, 13, 19],\n",
       " [10, 16, 20],\n",
       " [11, 15, 17, 21],\n",
       " [12, 16, 18, 22],\n",
       " [13, 17, 19, 23],\n",
       " [14, 18, 24],\n",
       " [15, 21],\n",
       " [16, 20, 22],\n",
       " [17, 21, 23],\n",
       " [18, 22, 24],\n",
       " [19, 23]]"
      ]
     },
     "execution_count": 52,
     "metadata": {},
     "output_type": "execute_result"
    }
   ],
   "source": [
    "graph.adjList"
   ]
  },
  {
   "cell_type": "code",
   "execution_count": 53,
   "metadata": {},
   "outputs": [],
   "source": [
    "# Function to perform DFS traversal on the graph on a graph\n",
    "def DFS(graph, v, visited):\n",
    " \n",
    "    # mark current node as visited\n",
    "    visited[v] = True\n",
    " \n",
    "    # do for every edge (v, u)\n",
    "    for u in graph.adjList[v]:\n",
    "        # `u` is not visited\n",
    "        if not visited[u]:\n",
    "            DFS(graph, u, visited)\n",
    " \n",
    " \n",
    "# Check if the graph is strongly connected or not\n",
    "def isStronglyConnected(graph, n):\n",
    " \n",
    "    # do for every vertex\n",
    "    for i in range(n):\n",
    " \n",
    "        # to keep track of whether a vertex is visited or not\n",
    "        visited = [False] * n\n",
    " \n",
    "        # start DFS from the first vertex\n",
    "        DFS(graph, i, visited)\n",
    " \n",
    "        # If DFS traversal doesn't visit all vertices,\n",
    "        # then the graph is not strongly connected\n",
    "        for b in visited:\n",
    "            if not b:\n",
    "                return False\n",
    " \n",
    "    return True"
   ]
  },
  {
   "cell_type": "code",
   "execution_count": 54,
   "metadata": {},
   "outputs": [
    {
     "data": {
      "text/plain": [
       "True"
      ]
     },
     "execution_count": 54,
     "metadata": {},
     "output_type": "execute_result"
    }
   ],
   "source": [
    "isStronglyConnected(graph, n)"
   ]
  }
 ],
 "metadata": {
  "kernelspec": {
   "display_name": "Python 3.8.0 ('.venv': venv)",
   "language": "python",
   "name": "python3"
  },
  "language_info": {
   "codemirror_mode": {
    "name": "ipython",
    "version": 3
   },
   "file_extension": ".py",
   "mimetype": "text/x-python",
   "name": "python",
   "nbconvert_exporter": "python",
   "pygments_lexer": "ipython3",
   "version": "3.8.0"
  },
  "orig_nbformat": 4,
  "vscode": {
   "interpreter": {
    "hash": "e88af944da3c6cfb1ed7751b9ac9c580afb4cbbdddb427fe922a773722398ceb"
   }
  }
 },
 "nbformat": 4,
 "nbformat_minor": 2
}
